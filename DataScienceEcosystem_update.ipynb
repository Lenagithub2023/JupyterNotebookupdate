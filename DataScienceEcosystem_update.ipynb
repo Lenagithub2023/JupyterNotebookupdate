{
 "cells": [
  {
   "cell_type": "markdown",
   "id": "d2386960",
   "metadata": {},
   "source": [
    "# Data Science Tools and Ecosystem"
   ]
  },
  {
   "cell_type": "markdown",
   "id": "0ff2590f",
   "metadata": {},
   "source": [
    "In this notebook, Data Science Tools and Ecosystem are summarized."
   ]
  },
  {
   "cell_type": "markdown",
   "id": "5d91857f",
   "metadata": {},
   "source": [
    "**Objectives:**\n",
    "Add markdown cells\n",
    "Add code cells\n",
    "List of the popluar languages that Data Scientists use\n",
    "List of the commonly used libraries used by Data Scientists\n",
    "Convert minutes to hours"
   ]
  },
  {
   "cell_type": "markdown",
   "id": "6a0b1631",
   "metadata": {},
   "source": [
    "Some of the popular languages that Data Scientists use are:\n",
    "Python\n",
    "R\n",
    "SQL\n",
    "Scala\n",
    "Java\n",
    "C++"
   ]
  },
  {
   "cell_type": "markdown",
   "id": "d19ac852",
   "metadata": {},
   "source": [
    "Some of the commonly used libraries used by Data Scientists include:\n",
    "Panda\n",
    "NumPy\n",
    "Matplotlib\n",
    "Seaborn\n",
    "Scikit-learn"
   ]
  },
  {
   "cell_type": "markdown",
   "id": "12f5f198",
   "metadata": {},
   "source": [
    "|Data Science Tools|\n",
    "|Jupyter Notebooks|\n",
    "|RStudio|\n",
    "|PyCharm|"
   ]
  },
  {
   "cell_type": "markdown",
   "id": "52a36a53",
   "metadata": {},
   "source": [
    "Below are a few examples of evaluating arithmetic expressions in Python.\n",
    "(2+5)*4\n",
    "2**2-12\n",
    "35/2-55"
   ]
  },
  {
   "cell_type": "code",
   "execution_count": 1,
   "id": "d027397b",
   "metadata": {},
   "outputs": [
    {
     "data": {
      "text/plain": [
       "17"
      ]
     },
     "execution_count": 1,
     "metadata": {},
     "output_type": "execute_result"
    }
   ],
   "source": [
    "# This a simple arithmetic expression to mutiply then add integers\n",
    "(3*4)+5"
   ]
  },
  {
   "cell_type": "code",
   "execution_count": 2,
   "id": "813a9b6a",
   "metadata": {},
   "outputs": [
    {
     "data": {
      "text/plain": [
       "3.3333333333333335"
      ]
     },
     "execution_count": 2,
     "metadata": {},
     "output_type": "execute_result"
    }
   ],
   "source": [
    "# This will convert 200 minutes to hours by diving by 60\n",
    "200/60"
   ]
  },
  {
   "cell_type": "markdown",
   "id": "a63ff512",
   "metadata": {},
   "source": [
    "## Author\n",
    "Guanglan Wang"
   ]
  }
 ],
 "metadata": {
  "celltoolbar": "Raw Cell Format",
  "kernelspec": {
   "display_name": "Python 3 (ipykernel)",
   "language": "python",
   "name": "python3"
  },
  "language_info": {
   "codemirror_mode": {
    "name": "ipython",
    "version": 3
   },
   "file_extension": ".py",
   "mimetype": "text/x-python",
   "name": "python",
   "nbconvert_exporter": "python",
   "pygments_lexer": "ipython3",
   "version": "3.10.9"
  }
 },
 "nbformat": 4,
 "nbformat_minor": 5
}
